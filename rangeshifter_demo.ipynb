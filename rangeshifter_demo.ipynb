{
 "cells": [
  {
   "cell_type": "code",
   "execution_count": 6,
   "id": "7ae08776-cda4-462b-9741-7b34b03e0a53",
   "metadata": {},
   "outputs": [
    {
     "name": "stdout",
     "output_type": "stream",
     "text": [
      "Modified Plan File: ./RN_EnergyLayers_RS5_S50.dcm, Plan ID: 240-70RS5_AGr, UID: 1.4.246.352.71.5.957952195770.1365573.20211027093523\n"
     ]
    }
   ],
   "source": [
    "from rangeshifter import *\n",
    "infile = \"./EnergyLayers/RN.1.2.246.352.71.5.957952195770.1365573.20211027093523.dcm\"\n",
    "a=RangeShifter(\n",
    "        infile=infile,\n",
    "        range_shifter=5,\n",
    "        plan_id=\"240-70RS5_AGr\",\n",
    "        snout_position=50.0,\n",
    "        add_rangeshifter=True,\n",
    "        outfile=\"./RN_EnergyLayers_RS5_S50.dcm\",\n",
    ")\n",
    "a.add()\n",
    "a.save()"
   ]
  }
 ],
 "metadata": {
  "kernelspec": {
   "display_name": "py38",
   "language": "python",
   "name": "py38"
  },
  "language_info": {
   "codemirror_mode": {
    "name": "ipython",
    "version": 3
   },
   "file_extension": ".py",
   "mimetype": "text/x-python",
   "name": "python",
   "nbconvert_exporter": "python",
   "pygments_lexer": "ipython3",
   "version": "3.8.11"
  }
 },
 "nbformat": 4,
 "nbformat_minor": 5
}
